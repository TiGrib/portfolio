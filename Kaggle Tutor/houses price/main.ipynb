{
 "cells": [
  {
   "cell_type": "code",
   "execution_count": 47,
   "metadata": {},
   "outputs": [
    {
     "name": "stderr",
     "output_type": "stream",
     "text": [
      "/home/ua82/.local/lib/python3.6/site-packages/sklearn/model_selection/_split.py:2053: FutureWarning: You should specify a value for 'cv' instead of relying on the default value. The default value will change from 3 to 5 in version 0.22.\n",
      "  warnings.warn(CV_WARNING, FutureWarning)\n"
     ]
    },
    {
     "name": "stdout",
     "output_type": "stream",
     "text": [
      "[-22512.17683466 -22671.75687654 -23781.14640995]\n"
     ]
    }
   ],
   "source": [
    "import pandas as pd\n",
    "from sklearn.ensemble import RandomForestRegressor\n",
    "from sklearn.metrics import mean_absolute_error\n",
    "from sklearn.model_selection import train_test_split\n",
    "from sklearn.tree import DecisionTreeRegressor\n",
    "from sklearn.impute import SimpleImputer\n",
    "from sklearn.pipeline import make_pipeline\n",
    "#from xgboost import XGBRegressor\n",
    "from sklearn.ensemble import GradientBoostingRegressor, GradientBoostingClassifier\n",
    "from sklearn.ensemble.partial_dependence import partial_dependence, plot_partial_dependence\n",
    "from sklearn.model_selection import cross_val_score\n",
    "\n",
    "\n",
    "cols=['LotArea', 'YearBuilt', '1stFlrSF', '2ndFlrSF', 'FullBath', 'BedroomAbvGr', 'TotRmsAbvGrd']\n",
    "\n",
    "\n",
    "data=pd.read_csv('train.csv')\n",
    "y=data.SalePrice\n",
    "#cols=data.columns.tolist()\n",
    "X=data[cols]\n",
    "\n",
    "train_X, test_X, train_y, test_y = train_test_split(X, y,random_state=2) \n",
    "\n",
    "my_model=GradientBoostingRegressor()\n",
    "#my_model=RandomForestRegressor()\n",
    "\n",
    "my_imp=SimpleImputer()\n",
    "\n",
    "my_pipeline=make_pipeline(SimpleImputer(), GradientBoostingRegressor())                                              \n",
    "#my_pipeline=make_pipeline(SimpleImputer(), RandomForestRegressor())\n",
    "\n",
    "my_pipeline.fit(train_X, train_y)\n",
    "predictions=my_pipeline.predict(test_X)\n",
    "\n",
    "\n",
    "\n",
    "\n",
    "#predictions = my_model.predict(full_imputed_X)\n",
    "#print(\"Mean Absolute Error : \" + str(mean_absolute_error(predictions, y)))\n",
    "scores = cross_val_score(my_pipeline, X, y, scoring='neg_mean_absolute_error')\n",
    "print(scores)\n",
    "\n",
    "\n",
    "test_data=pd.read_csv('test.csv')\n",
    "test_x=test_data[cols]\n",
    "test_preds=my_pipeline.predict(test_x)\n",
    "\n",
    "output = pd.DataFrame({'Id': test_data.Id,\n",
    "                       'SalePrice': test_preds})\n",
    "\n",
    "output.to_csv('submission.csv', index=False)\n",
    "\n",
    "#My_plots=plot_partial_dependence(my_model,X=imp_test_x,features=[0,1,2,3,4,5,6],n_cols=4, grid_resolution=100)\n",
    "\n",
    "#test_data.columns.tolist()\n",
    "#test_x.describe()"
   ]
  },
  {
   "cell_type": "code",
   "execution_count": 43,
   "metadata": {},
   "outputs": [
    {
     "name": "stdout",
     "output_type": "stream",
     "text": [
      "Object `.drop()` not found.\n"
     ]
    }
   ],
   "source": [
    "?.drop()"
   ]
  },
  {
   "cell_type": "code",
   "execution_count": null,
   "metadata": {},
   "outputs": [],
   "source": []
  }
 ],
 "metadata": {
  "kernelspec": {
   "display_name": "Python 3",
   "language": "python",
   "name": "python3"
  },
  "language_info": {
   "codemirror_mode": {
    "name": "ipython",
    "version": 3
   },
   "file_extension": ".py",
   "mimetype": "text/x-python",
   "name": "python",
   "nbconvert_exporter": "python",
   "pygments_lexer": "ipython3",
   "version": "3.6.5"
  }
 },
 "nbformat": 4,
 "nbformat_minor": 2
}
