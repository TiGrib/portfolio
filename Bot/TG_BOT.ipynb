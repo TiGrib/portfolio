{
 "cells": [
  {
   "cell_type": "code",
   "execution_count": 4,
   "metadata": {},
   "outputs": [
    {
     "data": {
      "text/plain": [
       "<queue.Queue at 0x7f5d51ff6160>"
      ]
     },
     "execution_count": 4,
     "metadata": {},
     "output_type": "execute_result"
    },
    {
     "name": "stderr",
     "output_type": "stream",
     "text": [
      "2018-12-11 19:01:21,603 - telegram.vendor.ptb_urllib3.urllib3.connectionpool - WARNING - Retrying (Retry(total=2, connect=None, read=None, redirect=None)) after connection broken by 'NewConnectionError('<telegram.vendor.ptb_urllib3.urllib3.connection.VerifiedHTTPSConnection object at 0x7f5d600a3860>: Failed to establish a new connection: [Errno 101] Network is unreachable',)': /bot623644093:AAG1GSLQ5S34pem04FYspINIakSrwfe0h0E/deleteWebhook\n",
      "2018-12-11 19:01:26,611 - telegram.vendor.ptb_urllib3.urllib3.connectionpool - WARNING - Retrying (Retry(total=1, connect=None, read=None, redirect=None)) after connection broken by 'NewConnectionError('<telegram.vendor.ptb_urllib3.urllib3.connection.VerifiedHTTPSConnection object at 0x7f5d600a38d0>: Failed to establish a new connection: [Errno 101] Network is unreachable',)': /bot623644093:AAG1GSLQ5S34pem04FYspINIakSrwfe0h0E/deleteWebhook\n",
      "2018-12-11 19:01:31,615 - telegram.vendor.ptb_urllib3.urllib3.connectionpool - WARNING - Retrying (Retry(total=0, connect=None, read=None, redirect=None)) after connection broken by 'NewConnectionError('<telegram.vendor.ptb_urllib3.urllib3.connection.VerifiedHTTPSConnection object at 0x7f5d600a3240>: Failed to establish a new connection: [Errno 101] Network is unreachable',)': /bot623644093:AAG1GSLQ5S34pem04FYspINIakSrwfe0h0E/deleteWebhook\n",
      "2018-12-11 19:01:36,622 - telegram.ext.updater - ERROR - Error while bootstrap del webhook: urllib3 HTTPError HTTPSConnectionPool(host='api.telegram.org', port=443): Max retries exceeded with url: /bot623644093:AAG1GSLQ5S34pem04FYspINIakSrwfe0h0E/deleteWebhook (Caused by NewConnectionError('<telegram.vendor.ptb_urllib3.urllib3.connection.VerifiedHTTPSConnection object at 0x7f5d600a32b0>: Failed to establish a new connection: [Errno 101] Network is unreachable',))\n",
      "2018-12-11 19:01:36,624 - telegram.ext.updater - WARNING - Failed bootstrap phase; try=1 max_retries=-1\n"
     ]
    }
   ],
   "source": [
    "from telegram.ext import Updater\n",
    "from telegram.ext import CommandHandler\n",
    "import consts\n",
    "import logging\n",
    "\n",
    "updater=Updater(token=f'{consts.token}')\n",
    "dispatcher = updater.dispatcher\n",
    "\n",
    "logging.basicConfig(format='%(asctime)s - %(name)s - %(levelname)s - %(message)s',\n",
    "                     level=logging.INFO)\n",
    "\n",
    "def start(bot, update):\n",
    "    bot.send_message(chat_id=update.message.chat_id, text=\"I'm a bot, please talk to me!\")\n",
    "\n",
    "start_handler = CommandHandler('start', start)\n",
    "dispatcher.add_handler(start_handler)\n",
    "\n",
    "updater.start_polling()"
   ]
  }
 ],
 "metadata": {
  "kernelspec": {
   "display_name": "Python 3",
   "language": "python",
   "name": "python3"
  },
  "language_info": {
   "codemirror_mode": {
    "name": "ipython",
    "version": 3
   },
   "file_extension": ".py",
   "mimetype": "text/x-python",
   "name": "python",
   "nbconvert_exporter": "python",
   "pygments_lexer": "ipython3",
   "version": "3.6.5"
  }
 },
 "nbformat": 4,
 "nbformat_minor": 2
}
